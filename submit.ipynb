{
 "cells": [
  {
   "cell_type": "code",
   "execution_count": 20,
   "metadata": {
    "collapsed": true
   },
   "outputs": [],
   "source": [
    "import fnmatch\n",
    "import os\n",
    "import random\n",
    "import re\n",
    "import threading\n",
    "import pandas as pd\n",
    "import time\n",
    "import copy\n",
    "from tqdm import tqdm\n",
    "\n",
    "import librosa\n",
    "import numpy as np\n",
    "\n",
    "\n",
    "import matplotlib.pyplot as plt\n",
    "\n",
    "%matplotlib inline\n",
    "\n",
    "FILE_PATTERN = r'*.wav'"
   ]
  },
  {
   "cell_type": "code",
   "execution_count": 25,
   "metadata": {
    "collapsed": true
   },
   "outputs": [],
   "source": [
    "from sklearn.model_selection import train_test_split, KFold, cross_val_score, GridSearchCV\n",
    "from sklearn.model_selection import validation_curve, learning_curve\n",
    "from sklearn.metrics import log_loss, accuracy_score, precision_recall_curve, auc\n",
    "from sklearn.ensemble import RandomForestClassifier, AdaBoostClassifier\n",
    "from sklearn.svm import SVC\n",
    "from xgboost import XGBClassifier"
   ]
  },
  {
   "cell_type": "markdown",
   "metadata": {},
   "source": [
    "# Load data"
   ]
  },
  {
   "cell_type": "code",
   "execution_count": 26,
   "metadata": {
    "collapsed": true
   },
   "outputs": [],
   "source": [
    "def randomize_files(files):\n",
    "    '''Shuffle loaded files'''\n",
    "    for file in files:\n",
    "        file_index = random.randint(0, (len(files) - 1))\n",
    "        yield files[file_index]\n",
    "\n",
    "\n",
    "def find_files(directory, pattern='*.wav'):\n",
    "    '''Recursively finds all files matching the pattern.'''\n",
    "    files = []\n",
    "    fnames = []\n",
    "    for root, dirnames, filenames in os.walk(directory):\n",
    "        for filename in fnmatch.filter(filenames, pattern):\n",
    "            files.append(os.path.join(root, filename))\n",
    "            fnames.append(filename)\n",
    "    return files, fnames\n",
    "\n",
    "def get_category(fname):\n",
    "    '''Parse type from fnamepar'''\n",
    "    return fname.split('/')[-1].split('_')[0]\n",
    "\n",
    "def load_generic_audio(files, sample_rate, amount):\n",
    "    '''Generator that yields audio waveforms from the directory.'''\n",
    "    for it, filename in enumerate(files):\n",
    "        if it == amount:\n",
    "            break\n",
    "        category_id = get_category(filename)\n",
    "        audio, _ = librosa.load(filename, sr=sample_rate, mono=True)\n",
    "        audio = audio.reshape(-1, 1)\n",
    "        yield audio, filename, category_id\n",
    "\n",
    "# Второе дополнительное задание !!!\n",
    "def trim_silence(audio, threshold, frame_length=512):\n",
    "    '''Removes silence at the beginning and end of a sample.'''\n",
    "    if audio.size < frame_length:\n",
    "        frame_length = audio.size\n",
    "    energy = librosa.feature.rmse(audio, frame_length=frame_length)\n",
    "    frames = np.nonzero(energy > threshold)\n",
    "    indices = librosa.core.frames_to_samples(frames)[1]\n",
    "\n",
    "    # Indices can be an empty array, if the whole audio was background.\n",
    "    return audio[indices[0]:indices[-1]] if indices.size else audio[0:0]\n",
    "\n",
    "\n",
    "\n",
    "class AudioReader(object):\n",
    "    '''Noise audio reader that preprocesses audio files\n",
    "    and add tham in lists'''\n",
    "\n",
    "    def __init__(self,\n",
    "                 audio_dir,\n",
    "                 sample_rate,\n",
    "                 silence_threshold=None,\n",
    "                 sample_size=None,\n",
    "                 load_size=None):\n",
    "        self.audio_dir = audio_dir\n",
    "        self.sample_rate = sample_rate\n",
    "        self.sample_size = sample_size\n",
    "        self.silence_threshold = silence_threshold\n",
    "        self.load_size = load_size\n",
    "        self.counter = 0\n",
    "        self.time = time.time()\n",
    "\n",
    "        # TODO Find a better way to check this and deal with empty audio.\n",
    "        \n",
    "        self.files, self.fnames = find_files(audio_dir)\n",
    "        if not self.files:\n",
    "            raise ValueError(\"No audio files found in '{}'.\".format(audio_dir))\n",
    "        self.pred_category = np.full(len(self.files), True)\n",
    "        if load_size is not None:\n",
    "            self.data = [0]*load_size\n",
    "            self.id = [0]*load_size\n",
    "        else:    \n",
    "            self.data = [0]*len(self.files)\n",
    "            self.id = [0]*len(self.files)\n",
    "\n",
    "\n",
    "    def read(self):\n",
    "        #Read dataset\n",
    "        \n",
    "        iterator = load_generic_audio(self.files, self.sample_rate, self.load_size)\n",
    "        for audio, filename, category_id in iterator:\n",
    "            if self.silence_threshold is not None:\n",
    "                # Remove silence\n",
    "                audio = trim_silence(audio[:, 0], self.silence_threshold)\n",
    "                audio = audio.reshape(-1)\n",
    "                if audio.size == 0:\n",
    "                    self.pred_category[self.counter]=False\n",
    "\n",
    "\n",
    "            self.data[self.counter] = audio\n",
    "            self.id[self.counter] = category_id\n",
    "            self.counter += 1\n",
    "            if self.counter % 400 == 0:\n",
    "                print (time.time() - self.time,self.counter)\n",
    "        return self"
   ]
  },
  {
   "cell_type": "code",
   "execution_count": 36,
   "metadata": {
    "collapsed": true
   },
   "outputs": [],
   "source": [
    "audio_dir = './data_v_7_stc/audio' \n",
    "test_dir='./data_v_7_stc/test'\n",
    "sr = 16000\n",
    "silence_threshold = 8e-4\n",
    "drop = False #use zero-size sample at training and predictions "
   ]
  },
  {
   "cell_type": "code",
   "execution_count": 37,
   "metadata": {},
   "outputs": [],
   "source": [
    "_, fnames = find_files(audio_dir)\n",
    "_, fnames_test = find_files(test_dir)"
   ]
  },
  {
   "cell_type": "code",
   "execution_count": 27,
   "metadata": {
    "scrolled": true
   },
   "outputs": [
    {
     "name": "stdout",
     "output_type": "stream",
     "text": [
      "29.956872940063477 400\n",
      "60.12695932388306 800\n",
      "88.32930779457092 1200\n",
      "114.39257192611694 1600\n",
      "146.94878315925598 2000\n",
      "178.91525554656982 2400\n",
      "208.0892550945282 2800\n",
      "237.8408613204956 3200\n",
      "264.34969830513 3600\n",
      "292.2403333187103 4000\n",
      "319.7210924625397 4400\n",
      "345.89164543151855 4800\n",
      "372.84616255760193 5200\n",
      "402.2528955936432 5600\n",
      "432.67646503448486 6000\n",
      "461.3338055610657 6400\n",
      "489.98981523513794 6800\n",
      "521.3770434856415 7200\n",
      "550.9944922924042 7600\n",
      "579.8056807518005 8000\n",
      "609.4759435653687 8400\n",
      "637.8871190547943 8800\n",
      "669.1229331493378 9200\n",
      "699.226235628128 9600\n",
      "726.9619619846344 10000\n",
      "761.3581113815308 10400\n",
      "790.1097180843353 10800\n",
      "816.3173453807831 11200\n"
     ]
    },
    {
     "data": {
      "text/plain": [
       "<__main__.AudioReader at 0x7fee11e8a278>"
      ]
     },
     "execution_count": 27,
     "metadata": {},
     "output_type": "execute_result"
    }
   ],
   "source": [
    "audio_reader = AudioReader(audio_dir,sr,silence_threshold=silence_threshold,load_size=None)\n",
    "audio_reader.read()"
   ]
  },
  {
   "cell_type": "code",
   "execution_count": 8,
   "metadata": {
    "collapsed": true
   },
   "outputs": [],
   "source": [
    "meta = pd.read_csv('./data_v_7_stc/meta/meta.txt',sep = '\\t')\n",
    "meta.drop(columns=['*','time_start'],inplace=True)\n",
    "to = {'background':0,'bags':1,'door':2,'keyboard':3,'knocking_door':4,'ring':5,'speech':6,'tool':7}\n",
    "fr = {0:'background',1:'bags',2:'door',3:'keyboard',4:'knocking_door',5:'ring',6:'speech',7:'tool'}\n",
    "meta['type'] = meta['type'].map(to)"
   ]
  },
  {
   "cell_type": "code",
   "execution_count": null,
   "metadata": {
    "collapsed": true
   },
   "outputs": [],
   "source": [
    "mask = np.invert(audio_reader.pred_category)"
   ]
  },
  {
   "cell_type": "markdown",
   "metadata": {},
   "source": [
    "# Choice of silence_threshold"
   ]
  },
  {
   "cell_type": "code",
   "execution_count": 153,
   "metadata": {
    "scrolled": true
   },
   "outputs": [
    {
     "name": "stdout",
     "output_type": "stream",
     "text": [
      "(1, 91) (46086,) 16000\n"
     ]
    },
    {
     "data": {
      "image/png": "[encoded data removed]",
      "text/plain": [
       "<matplotlib.figure.Figure at 0x7f9904dbc278>"
      ]
     },
     "metadata": {},
     "output_type": "display_data"
    }
   ],
   "source": [
    "path = './data_v_7_stc/audio/background_0019_time_stretch_13.wav' \n",
    "sr = 16000\n",
    "audio, _ = librosa.load(path, sr=sr, mono=True)\n",
    "energy = librosa.feature.rmse(audio, frame_length=512)\n",
    "print (energy.shape, audio.shape, 16000)\n",
    "plt.plot(energy.reshape(-1), 'rx');"
   ]
  },
  {
   "cell_type": "code",
   "execution_count": 116,
   "metadata": {},
   "outputs": [
    {
     "data": {
      "text/plain": [
       "<map at 0x7f9906650198>"
      ]
     },
     "execution_count": 116,
     "metadata": {},
     "output_type": "execute_result"
    }
   ],
   "source": [
    "files = find_files('./data_v_7_stc/audio')\n",
    "files[0].split('/')[-1].split('_')[0]\n",
    "def get_type(a):\n",
    "    return a.split('/')[-1].split('_')[0]"
   ]
  },
  {
   "cell_type": "code",
   "execution_count": 223,
   "metadata": {
    "scrolled": false
   },
   "outputs": [
    {
     "name": "stdout",
     "output_type": "stream",
     "text": [
      "background_0001.wav 0.00131564\n",
      "background_0001_time_stretch_5.wav 0.00131575\n",
      "background_0004.wav 0.00503398\n",
      "background_0004_time_stretch_1.wav 0.00526163\n",
      "background_0007.wav 0.00769703\n",
      "background_0014.wav 0.0453071\n",
      "background_0014_time_stretch_0.wav 0.0506213\n",
      "background_0042.wav 0.182996\n",
      "background_0042_time_stretch_0.wav 0.189449\n",
      "background_0042_time_stretch_3.wav 0.191987\n",
      "0.191987\n"
     ]
    }
   ],
   "source": [
    "s = 0\n",
    "files = meta[meta['type'] == 0]['fname']\n",
    "rm = np.zeros((len(files),4))\n",
    "for i, file in  enumerate(files):\n",
    "    path = audio_dir + '/' + file\n",
    "    audio, _ = librosa.load(path, sr=sr, mono=True)\n",
    "    energy = librosa.feature.rmse(audio, frame_length=512) \n",
    "    rm[i] = (energy.max(),energy.mean(),energy.std(),energy.min())\n",
    "    if energy.max() > s:\n",
    "        s = energy.max()\n",
    "plt.hist(rm1[:,1], bins=12)"
   ]
  },
  {
   "cell_type": "code",
   "execution_count": 190,
   "metadata": {},
   "outputs": [
    {
     "name": "stdout",
     "output_type": "stream",
     "text": [
      "bags_0001.wav 0.0541228\n",
      "bags_0002.wav 0.24719\n",
      "bags_0033.wav 0.301132\n",
      "bags_0033_time_stretch_3.wav 0.310277\n",
      "bg_0009.wav 0.363868\n",
      "bg_0010.wav 0.522466\n",
      "0.522466\n"
     ]
    }
   ],
   "source": [
    "s = 0\n",
    "files2 = meta[meta['type'] == 1]['fname']\n",
    "rm2 = np.zeros((len(files2),4))\n",
    "for i, file in  enumerate(files2):\n",
    "    path = audio_dir + '/' + file\n",
    "    audio, _ = librosa.load(path, sr=sr, mono=True)\n",
    "    energy = librosa.feature.rmse(audio, frame_length=512) \n",
    "    rm2[i] = (energy.max(),energy.mean(),energy.std(),energy.min())\n",
    "    if energy.max() > s:\n",
    "        s = energy.max()\n",
    "plt.hist(rm2[:,1], bins=12)"
   ]
  },
  {
   "cell_type": "code",
   "execution_count": 9,
   "metadata": {},
   "outputs": [
    {
     "data": {
      "text/plain": [
       "(array([   0.,    0.,    0.,    0.,  516.,    0.,    0.,    0.]),\n",
       " array([-0.5  , -0.375, -0.25 , -0.125,  0.   ,  0.125,  0.25 ,  0.375,  0.5  ]),\n",
       " <a list of 8 Patch objects>)"
      ]
     },
     "execution_count": 9,
     "metadata": {},
     "output_type": "execute_result"
    },
    {
     "data": {
      "image/png": "[encoded data removed]",
      "text/plain": [
       "<matplotlib.figure.Figure at 0x7fb616a09da0>"
      ]
     },
     "metadata": {},
     "output_type": "display_data"
    }
   ],
   "source": [
    "# hist of threshold sample by catigory\n",
    "\n",
    "meta2 = meta.set_index('fname')\n",
    "files = [0]*len(audio_reader.files)\n",
    "for i,f in enumerate(audio_reader.files):\n",
    "    files[i]=f.split('/')[-1]\n",
    "y_train = np.array(meta2.loc[files]['type'])\n",
    "zerro_level = y_train[mask]\n",
    "plt.hist(zerro_level,bins = 8)\n"
   ]
  },
  {
   "cell_type": "markdown",
   "metadata": {},
   "source": [
    "# Feature Extraction"
   ]
  },
  {
   "cell_type": "markdown",
   "metadata": {},
   "source": [
    "## 1.All feature"
   ]
  },
  {
   "cell_type": "code",
   "execution_count": 7,
   "metadata": {
    "collapsed": true
   },
   "outputs": [],
   "source": [
    "def extract_feature(X,sample_rate):\n",
    "    stft = np.abs(librosa.stft(X))\n",
    "    mfccs = np.mean(librosa.feature.mfcc(y=X, sr=sample_rate, n_mfcc=40).T,axis=0)\n",
    "    chroma = np.mean(librosa.feature.chroma_stft(S=stft, sr=sample_rate).T,axis=0)\n",
    "    mel = np.mean(librosa.feature.melspectrogram(X, sr=sample_rate).T,axis=0)\n",
    "    contrast = np.mean(librosa.feature.spectral_contrast(S=stft, sr=sample_rate).T,axis=0)\n",
    "#     tonnetz = np.mean(librosa.feature.tonnetz(y=librosa.effects.harmonic(X), sr=sample_rate).T,axis=0)\n",
    "    return mfccs,chroma,mel,contrast"
   ]
  },
  {
   "cell_type": "code",
   "execution_count": 9,
   "metadata": {
    "collapsed": true
   },
   "outputs": [],
   "source": [
    "np.save('y_train',y_train)\n",
    "np.save('all_features_train',X_train)"
   ]
  },
  {
   "cell_type": "code",
   "execution_count": 8,
   "metadata": {
    "scrolled": true
   },
   "outputs": [
    {
     "name": "stdout",
     "output_type": "stream",
     "text": [
      "0 0.7706301212310791\n",
      "500 25.03000497817993\n"
     ]
    },
    {
     "name": "stderr",
     "output_type": "stream",
     "text": [
      "/home/ilya/anaconda3/lib/python3.6/site-packages/librosa/core/pitch.py:145: UserWarning: Trying to estimate tuning from empty frequency set.\n",
      "  warnings.warn('Trying to estimate tuning from empty frequency set.')\n"
     ]
    },
    {
     "name": "stdout",
     "output_type": "stream",
     "text": [
      "1000 46.00137400627136\n",
      "1500 67.7959680557251\n",
      "2000 91.39860916137695\n",
      "2500 116.05993962287903\n",
      "3000 137.24662017822266\n",
      "3500 156.7050952911377\n",
      "4000 176.81011581420898\n",
      "4500 198.76968717575073\n",
      "5500 240.84956550598145\n",
      "6000 263.1098737716675\n",
      "6500 283.9925694465637\n",
      "7000 304.77506041526794\n",
      "7500 324.5779366493225\n",
      "8000 346.3171019554138\n",
      "8500 366.4724006652832\n",
      "9000 385.82745242118835\n",
      "9500 407.44711232185364\n",
      "10000 433.6474587917328\n",
      "10500 452.80565452575684\n",
      "11000 472.25967049598694\n"
     ]
    }
   ],
   "source": [
    "n=len(audio_reader.data)\n",
    "X_train = np.zeros((n,187))\n",
    "start = time.time()\n",
    "for i,arr in enumerate(audio_reader.data):\n",
    "    if arr.size == 0:\n",
    "        continue\n",
    "    mfccs, chroma, mel, contrast= extract_feature(arr,sr)\n",
    "    X_train[i] = np.hstack([mfccs,chroma,mel,contrast])\n",
    "    if i%500 == 0:\n",
    "        print (i, time.time()-start)\n",
    "meta2 = meta.set_index('fname')\n",
    "files = [0]*len(audio_reader.files)\n",
    "for i,f in enumerate(audio_reader.files):\n",
    "    files[i]=f.split('/')[-1]\n",
    "y_train = np.array(meta2.loc[files]['type'])"
   ]
  },
  {
   "cell_type": "code",
   "execution_count": 10,
   "metadata": {},
   "outputs": [
    {
     "name": "stdout",
     "output_type": "stream",
     "text": [
      "6.119609355926514 400\n",
      "0 0.05855250358581543\n",
      "500 22.81306219100952\n"
     ]
    }
   ],
   "source": [
    "test_dir='./data_v_7_stc/test'\n",
    "test_reader = AudioReader(test_dir,sr,silence_threshold=silence_threshold)\n",
    "test_reader.read()\n",
    "n=len(test_reader.data)\n",
    "X_full = np.zeros((n,187))\n",
    "start = time.time()\n",
    "for i,arr in enumerate(test_reader.data):\n",
    "    if arr.size == 0:\n",
    "        continue\n",
    "    mfccs, chroma, mel, contrast= extract_feature(arr,sr)\n",
    "    X_full[i] = np.hstack([mfccs,chroma,mel,contrast])\n",
    "    if i%500 == 0:\n",
    "        print (i, time.time()-start)\n",
    "to = {'background':0,'bags':1,'door':2,'keyboard':3,'knocking':4,'ring':5,'speech':6,'tool':7}\n",
    "T = np.array(test_reader.id)\n",
    "X_test, y_test =X_full[T != 'unknown'],  np.array([to[x] for x in T[T != 'unknown']])\n",
    "X_unknown = X_full[T == 'unknown']\n",
    "mask_test = np.invert(test_reader.pred_category[T != 'unknown'])"
   ]
  },
  {
   "cell_type": "code",
   "execution_count": 11,
   "metadata": {
    "collapsed": true
   },
   "outputs": [],
   "source": [
    "np.save('T',T)\n",
    "np.save('X_full_test_all_features',X_full)"
   ]
  },
  {
   "cell_type": "code",
   "execution_count": 12,
   "metadata": {
    "collapsed": true
   },
   "outputs": [],
   "source": [
    "if drop:\n",
    "    _X_train, _y_train = copy.deepcopy(X_train), copy.deepcopy(y_train)\n",
    "    X_train, y_train = X_train[audio_reader.pred_category], y_train[audio_reader.pred_category]"
   ]
  },
  {
   "cell_type": "markdown",
   "metadata": {},
   "source": [
    "### Load features"
   ]
  },
  {
   "cell_type": "code",
   "execution_count": 53,
   "metadata": {},
   "outputs": [
    {
     "name": "stderr",
     "output_type": "stream",
     "text": [
      "100%|██████████| 11307/11307 [01:01<00:00, 182.69it/s]\n",
      "100%|██████████| 610/610 [00:00<00:00, 2350.50it/s]\n"
     ]
    }
   ],
   "source": [
    "#Load pre_saved feature\n",
    "X_train = np.load('all_features_train.npy')\n",
    "y_train = np.load('y_train.npy')\n",
    "X_full = np.load('X_full_test_all_features.npy')\n",
    "T = np.load('T.npy')\n",
    "\n",
    "wavenet_dir = './wavenet_features'\n",
    "wav_feat = np.zeros((len(fname),16))\n",
    "for i,file in enumerate(tqdm(fnames)):\n",
    "    path = wavenet_dir + '/' + file + '.npy'\n",
    "    if os.path.isfile(path):\n",
    "        wav_feat[i] = np.mean(np.load(path))\n",
    "\n",
    "wavenet_dir = './test_feats'\n",
    "wav_feat_test = np.zeros((len(fnames_test),16))\n",
    "for i,file in enumerate(tqdm(fnames_test)):\n",
    "    path = wavenet_dir + '/' + file + '.npy'\n",
    "    if os.path.isfile(path):\n",
    "        wav_feat_test[i] = np.mean(np.load(path))\n",
    "                                           \n",
    "X_train = np.hstack((X_train,wav_feat))\n",
    "X_full = np.hstack((X_full,wav_feat_test)) \n",
    "\n",
    "to = {'background':0,'bags':1,'door':2,'keyboard':3,'knocking':4,'ring':5,'speech':6,'tool':7}\n",
    "X_test, y_test =X_full[T != 'unknown'],  np.array([to[x] for x in T[T != 'unknown']])\n",
    "X_unknown = X_full[T == 'unknown']"
   ]
  },
  {
   "cell_type": "markdown",
   "metadata": {},
   "source": [
    "## 2. mfcc only"
   ]
  },
  {
   "cell_type": "code",
   "execution_count": 9,
   "metadata": {
    "scrolled": true
   },
   "outputs": [
    {
     "name": "stdout",
     "output_type": "stream",
     "text": [
      "0 1.0687875747680664\n"
     ]
    },
    {
     "name": "stderr",
     "output_type": "stream",
     "text": [
      "/home/ilya/anaconda3/lib/python3.6/site-packages/librosa/core/pitch.py:145: UserWarning: Trying to estimate tuning from empty frequency set.\n",
      "  warnings.warn('Trying to estimate tuning from empty frequency set.')\n"
     ]
    },
    {
     "name": "stdout",
     "output_type": "stream",
     "text": [
      "500 157.42805886268616\n"
     ]
    },
    {
     "name": "stderr",
     "output_type": "stream",
     "text": [
      "/home/ilya/anaconda3/lib/python3.6/site-packages/librosa/util/utils.py:1467: RuntimeWarning: invalid value encountered in less\n",
      "  if np.any(X < 0) or np.any(X_ref < 0):\n",
      "/home/ilya/anaconda3/lib/python3.6/site-packages/librosa/util/utils.py:1480: RuntimeWarning: invalid value encountered in less\n",
      "  bad_idx = (Z < np.finfo(dtype).tiny)\n"
     ]
    },
    {
     "ename": "ParameterError",
     "evalue": "Audio buffer is not finite everywhere",
     "output_type": "error",
     "traceback": [
      "\u001b[0;31m---------------------------------------------------------------------------\u001b[0m",
      "\u001b[0;31mParameterError\u001b[0m                            Traceback (most recent call last)",
      "\u001b[0;32m<ipython-input-9-0086a30ac35a>\u001b[0m in \u001b[0;36m<module>\u001b[0;34m()\u001b[0m\n\u001b[1;32m      5\u001b[0m     \u001b[0;32mif\u001b[0m \u001b[0marr\u001b[0m\u001b[0;34m.\u001b[0m\u001b[0msize\u001b[0m \u001b[0;34m==\u001b[0m \u001b[0;36m0\u001b[0m\u001b[0;34m:\u001b[0m\u001b[0;34m\u001b[0m\u001b[0m\n\u001b[1;32m      6\u001b[0m         \u001b[0;32mcontinue\u001b[0m\u001b[0;34m\u001b[0m\u001b[0m\n\u001b[0;32m----> 7\u001b[0;31m     \u001b[0mX_train\u001b[0m\u001b[0;34m[\u001b[0m\u001b[0mi\u001b[0m\u001b[0;34m]\u001b[0m\u001b[0;34m=\u001b[0m\u001b[0mnp\u001b[0m\u001b[0;34m.\u001b[0m\u001b[0mmean\u001b[0m\u001b[0;34m(\u001b[0m\u001b[0mlibrosa\u001b[0m\u001b[0;34m.\u001b[0m\u001b[0mfeature\u001b[0m\u001b[0;34m.\u001b[0m\u001b[0mtonnetz\u001b[0m\u001b[0;34m(\u001b[0m\u001b[0my\u001b[0m\u001b[0;34m=\u001b[0m\u001b[0mlibrosa\u001b[0m\u001b[0;34m.\u001b[0m\u001b[0meffects\u001b[0m\u001b[0;34m.\u001b[0m\u001b[0mharmonic\u001b[0m\u001b[0;34m(\u001b[0m\u001b[0marr\u001b[0m\u001b[0;34m)\u001b[0m\u001b[0;34m,\u001b[0m \u001b[0msr\u001b[0m\u001b[0;34m=\u001b[0m\u001b[0msr\u001b[0m\u001b[0;34m)\u001b[0m\u001b[0;34m.\u001b[0m\u001b[0mT\u001b[0m\u001b[0;34m,\u001b[0m\u001b[0maxis\u001b[0m\u001b[0;34m=\u001b[0m\u001b[0;36m0\u001b[0m\u001b[0;34m)\u001b[0m\u001b[0;34m\u001b[0m\u001b[0m\n\u001b[0m\u001b[1;32m      8\u001b[0m     \u001b[0;32mif\u001b[0m \u001b[0mi\u001b[0m\u001b[0;34m%\u001b[0m\u001b[0;36m500\u001b[0m \u001b[0;34m==\u001b[0m \u001b[0;36m0\u001b[0m\u001b[0;34m:\u001b[0m\u001b[0;34m\u001b[0m\u001b[0m\n\u001b[1;32m      9\u001b[0m         \u001b[0mprint\u001b[0m \u001b[0;34m(\u001b[0m\u001b[0mi\u001b[0m\u001b[0;34m,\u001b[0m \u001b[0mtime\u001b[0m\u001b[0;34m.\u001b[0m\u001b[0mtime\u001b[0m\u001b[0;34m(\u001b[0m\u001b[0;34m)\u001b[0m\u001b[0;34m-\u001b[0m\u001b[0mstart\u001b[0m\u001b[0;34m)\u001b[0m\u001b[0;34m\u001b[0m\u001b[0m\n",
      "\u001b[0;32m~/anaconda3/lib/python3.6/site-packages/librosa/feature/spectral.py\u001b[0m in \u001b[0;36mtonnetz\u001b[0;34m(y, sr, chroma)\u001b[0m\n\u001b[1;32m   1281\u001b[0m \u001b[0;34m\u001b[0m\u001b[0m\n\u001b[1;32m   1282\u001b[0m     \u001b[0;32mif\u001b[0m \u001b[0mchroma\u001b[0m \u001b[0;32mis\u001b[0m \u001b[0;32mNone\u001b[0m\u001b[0;34m:\u001b[0m\u001b[0;34m\u001b[0m\u001b[0m\n\u001b[0;32m-> 1283\u001b[0;31m         \u001b[0mchroma\u001b[0m \u001b[0;34m=\u001b[0m \u001b[0mchroma_cqt\u001b[0m\u001b[0;34m(\u001b[0m\u001b[0my\u001b[0m\u001b[0;34m=\u001b[0m\u001b[0my\u001b[0m\u001b[0;34m,\u001b[0m \u001b[0msr\u001b[0m\u001b[0;34m=\u001b[0m\u001b[0msr\u001b[0m\u001b[0;34m)\u001b[0m\u001b[0;34m\u001b[0m\u001b[0m\n\u001b[0m\u001b[1;32m   1284\u001b[0m \u001b[0;34m\u001b[0m\u001b[0m\n\u001b[1;32m   1285\u001b[0m     \u001b[0;31m# Generate Transformation matrix\u001b[0m\u001b[0;34m\u001b[0m\u001b[0;34m\u001b[0m\u001b[0m\n",
      "\u001b[0;32m~/anaconda3/lib/python3.6/site-packages/librosa/feature/spectral.py\u001b[0m in \u001b[0;36mchroma_cqt\u001b[0;34m(y, sr, C, hop_length, fmin, norm, threshold, tuning, n_chroma, n_octaves, window, bins_per_octave, cqt_mode)\u001b[0m\n\u001b[1;32m   1059\u001b[0m                                       \u001b[0mn_bins\u001b[0m\u001b[0;34m=\u001b[0m\u001b[0mn_octaves\u001b[0m \u001b[0;34m*\u001b[0m \u001b[0mbins_per_octave\u001b[0m\u001b[0;34m,\u001b[0m\u001b[0;34m\u001b[0m\u001b[0m\n\u001b[1;32m   1060\u001b[0m                                       \u001b[0mbins_per_octave\u001b[0m\u001b[0;34m=\u001b[0m\u001b[0mbins_per_octave\u001b[0m\u001b[0;34m,\u001b[0m\u001b[0;34m\u001b[0m\u001b[0m\n\u001b[0;32m-> 1061\u001b[0;31m                                       tuning=tuning))\n\u001b[0m\u001b[1;32m   1062\u001b[0m \u001b[0;34m\u001b[0m\u001b[0m\n\u001b[1;32m   1063\u001b[0m     \u001b[0;31m# Map to chroma\u001b[0m\u001b[0;34m\u001b[0m\u001b[0;34m\u001b[0m\u001b[0m\n",
      "\u001b[0;32m~/anaconda3/lib/python3.6/site-packages/librosa/core/constantq.py\u001b[0m in \u001b[0;36mcqt\u001b[0;34m(y, sr, hop_length, fmin, n_bins, bins_per_octave, tuning, filter_scale, norm, sparsity, window, scale, pad_mode)\u001b[0m\n\u001b[1;32m    162\u001b[0m \u001b[0;34m\u001b[0m\u001b[0m\n\u001b[1;32m    163\u001b[0m     \u001b[0;32mif\u001b[0m \u001b[0mtuning\u001b[0m \u001b[0;32mis\u001b[0m \u001b[0;32mNone\u001b[0m\u001b[0;34m:\u001b[0m\u001b[0;34m\u001b[0m\u001b[0m\n\u001b[0;32m--> 164\u001b[0;31m         \u001b[0mtuning\u001b[0m \u001b[0;34m=\u001b[0m \u001b[0mestimate_tuning\u001b[0m\u001b[0;34m(\u001b[0m\u001b[0my\u001b[0m\u001b[0;34m=\u001b[0m\u001b[0my\u001b[0m\u001b[0;34m,\u001b[0m \u001b[0msr\u001b[0m\u001b[0;34m=\u001b[0m\u001b[0msr\u001b[0m\u001b[0;34m)\u001b[0m\u001b[0;34m\u001b[0m\u001b[0m\n\u001b[0m\u001b[1;32m    165\u001b[0m \u001b[0;34m\u001b[0m\u001b[0m\n\u001b[1;32m    166\u001b[0m     \u001b[0;31m# First thing, get the freqs of the top octave\u001b[0m\u001b[0;34m\u001b[0m\u001b[0;34m\u001b[0m\u001b[0m\n",
      "\u001b[0;32m~/anaconda3/lib/python3.6/site-packages/librosa/core/pitch.py\u001b[0m in \u001b[0;36mestimate_tuning\u001b[0;34m(y, sr, S, n_fft, resolution, bins_per_octave, **kwargs)\u001b[0m\n\u001b[1;32m     78\u001b[0m     '''\n\u001b[1;32m     79\u001b[0m \u001b[0;34m\u001b[0m\u001b[0m\n\u001b[0;32m---> 80\u001b[0;31m     \u001b[0mpitch\u001b[0m\u001b[0;34m,\u001b[0m \u001b[0mmag\u001b[0m \u001b[0;34m=\u001b[0m \u001b[0mpiptrack\u001b[0m\u001b[0;34m(\u001b[0m\u001b[0my\u001b[0m\u001b[0;34m=\u001b[0m\u001b[0my\u001b[0m\u001b[0;34m,\u001b[0m \u001b[0msr\u001b[0m\u001b[0;34m=\u001b[0m\u001b[0msr\u001b[0m\u001b[0;34m,\u001b[0m \u001b[0mS\u001b[0m\u001b[0;34m=\u001b[0m\u001b[0mS\u001b[0m\u001b[0;34m,\u001b[0m \u001b[0mn_fft\u001b[0m\u001b[0;34m=\u001b[0m\u001b[0mn_fft\u001b[0m\u001b[0;34m,\u001b[0m \u001b[0;34m**\u001b[0m\u001b[0mkwargs\u001b[0m\u001b[0;34m)\u001b[0m\u001b[0;34m\u001b[0m\u001b[0m\n\u001b[0m\u001b[1;32m     81\u001b[0m \u001b[0;34m\u001b[0m\u001b[0m\n\u001b[1;32m     82\u001b[0m     \u001b[0;31m# Only count magnitude where frequency is > 0\u001b[0m\u001b[0;34m\u001b[0m\u001b[0;34m\u001b[0m\u001b[0m\n",
      "\u001b[0;32m~/anaconda3/lib/python3.6/site-packages/librosa/core/pitch.py\u001b[0m in \u001b[0;36mpiptrack\u001b[0;34m(y, sr, S, n_fft, hop_length, fmin, fmax, threshold)\u001b[0m\n\u001b[1;32m    234\u001b[0m         \u001b[0mhop_length\u001b[0m \u001b[0;34m=\u001b[0m \u001b[0mint\u001b[0m\u001b[0;34m(\u001b[0m\u001b[0mn_fft\u001b[0m \u001b[0;34m//\u001b[0m \u001b[0;36m4\u001b[0m\u001b[0;34m)\u001b[0m\u001b[0;34m\u001b[0m\u001b[0m\n\u001b[1;32m    235\u001b[0m \u001b[0;34m\u001b[0m\u001b[0m\n\u001b[0;32m--> 236\u001b[0;31m     \u001b[0mS\u001b[0m\u001b[0;34m,\u001b[0m \u001b[0mn_fft\u001b[0m \u001b[0;34m=\u001b[0m \u001b[0m_spectrogram\u001b[0m\u001b[0;34m(\u001b[0m\u001b[0my\u001b[0m\u001b[0;34m=\u001b[0m\u001b[0my\u001b[0m\u001b[0;34m,\u001b[0m \u001b[0mS\u001b[0m\u001b[0;34m=\u001b[0m\u001b[0mS\u001b[0m\u001b[0;34m,\u001b[0m \u001b[0mn_fft\u001b[0m\u001b[0;34m=\u001b[0m\u001b[0mn_fft\u001b[0m\u001b[0;34m,\u001b[0m \u001b[0mhop_length\u001b[0m\u001b[0;34m=\u001b[0m\u001b[0mhop_length\u001b[0m\u001b[0;34m)\u001b[0m\u001b[0;34m\u001b[0m\u001b[0m\n\u001b[0m\u001b[1;32m    237\u001b[0m \u001b[0;34m\u001b[0m\u001b[0m\n\u001b[1;32m    238\u001b[0m     \u001b[0;31m# Make sure we're dealing with magnitudes\u001b[0m\u001b[0;34m\u001b[0m\u001b[0;34m\u001b[0m\u001b[0m\n",
      "\u001b[0;32m~/anaconda3/lib/python3.6/site-packages/librosa/core/spectrum.py\u001b[0m in \u001b[0;36m_spectrogram\u001b[0;34m(y, S, n_fft, hop_length, power)\u001b[0m\n\u001b[1;32m   1529\u001b[0m     \u001b[0;32melse\u001b[0m\u001b[0;34m:\u001b[0m\u001b[0;34m\u001b[0m\u001b[0m\n\u001b[1;32m   1530\u001b[0m         \u001b[0;31m# Otherwise, compute a magnitude spectrogram from input\u001b[0m\u001b[0;34m\u001b[0m\u001b[0;34m\u001b[0m\u001b[0m\n\u001b[0;32m-> 1531\u001b[0;31m         \u001b[0mS\u001b[0m \u001b[0;34m=\u001b[0m \u001b[0mnp\u001b[0m\u001b[0;34m.\u001b[0m\u001b[0mabs\u001b[0m\u001b[0;34m(\u001b[0m\u001b[0mstft\u001b[0m\u001b[0;34m(\u001b[0m\u001b[0my\u001b[0m\u001b[0;34m,\u001b[0m \u001b[0mn_fft\u001b[0m\u001b[0;34m=\u001b[0m\u001b[0mn_fft\u001b[0m\u001b[0;34m,\u001b[0m \u001b[0mhop_length\u001b[0m\u001b[0;34m=\u001b[0m\u001b[0mhop_length\u001b[0m\u001b[0;34m)\u001b[0m\u001b[0;34m)\u001b[0m\u001b[0;34m**\u001b[0m\u001b[0mpower\u001b[0m\u001b[0;34m\u001b[0m\u001b[0m\n\u001b[0m\u001b[1;32m   1532\u001b[0m \u001b[0;34m\u001b[0m\u001b[0m\n\u001b[1;32m   1533\u001b[0m     \u001b[0;32mreturn\u001b[0m \u001b[0mS\u001b[0m\u001b[0;34m,\u001b[0m \u001b[0mn_fft\u001b[0m\u001b[0;34m\u001b[0m\u001b[0m\n",
      "\u001b[0;32m~/anaconda3/lib/python3.6/site-packages/librosa/core/spectrum.py\u001b[0m in \u001b[0;36mstft\u001b[0;34m(y, n_fft, hop_length, win_length, window, center, dtype, pad_mode)\u001b[0m\n\u001b[1;32m    158\u001b[0m \u001b[0;34m\u001b[0m\u001b[0m\n\u001b[1;32m    159\u001b[0m     \u001b[0;31m# Check audio is valid\u001b[0m\u001b[0;34m\u001b[0m\u001b[0;34m\u001b[0m\u001b[0m\n\u001b[0;32m--> 160\u001b[0;31m     \u001b[0mutil\u001b[0m\u001b[0;34m.\u001b[0m\u001b[0mvalid_audio\u001b[0m\u001b[0;34m(\u001b[0m\u001b[0my\u001b[0m\u001b[0;34m)\u001b[0m\u001b[0;34m\u001b[0m\u001b[0m\n\u001b[0m\u001b[1;32m    161\u001b[0m \u001b[0;34m\u001b[0m\u001b[0m\n\u001b[1;32m    162\u001b[0m     \u001b[0;31m# Pad the time series so that frames are centered\u001b[0m\u001b[0;34m\u001b[0m\u001b[0;34m\u001b[0m\u001b[0m\n",
      "\u001b[0;32m~/anaconda3/lib/python3.6/site-packages/librosa/util/utils.py\u001b[0m in \u001b[0;36mvalid_audio\u001b[0;34m(y, mono)\u001b[0m\n\u001b[1;32m    168\u001b[0m \u001b[0;34m\u001b[0m\u001b[0m\n\u001b[1;32m    169\u001b[0m     \u001b[0;32mif\u001b[0m \u001b[0;32mnot\u001b[0m \u001b[0mnp\u001b[0m\u001b[0;34m.\u001b[0m\u001b[0misfinite\u001b[0m\u001b[0;34m(\u001b[0m\u001b[0my\u001b[0m\u001b[0;34m)\u001b[0m\u001b[0;34m.\u001b[0m\u001b[0mall\u001b[0m\u001b[0;34m(\u001b[0m\u001b[0;34m)\u001b[0m\u001b[0;34m:\u001b[0m\u001b[0;34m\u001b[0m\u001b[0m\n\u001b[0;32m--> 170\u001b[0;31m         \u001b[0;32mraise\u001b[0m \u001b[0mParameterError\u001b[0m\u001b[0;34m(\u001b[0m\u001b[0;34m'Audio buffer is not finite everywhere'\u001b[0m\u001b[0;34m)\u001b[0m\u001b[0;34m\u001b[0m\u001b[0m\n\u001b[0m\u001b[1;32m    171\u001b[0m \u001b[0;34m\u001b[0m\u001b[0m\n\u001b[1;32m    172\u001b[0m     \u001b[0;32mreturn\u001b[0m \u001b[0;32mTrue\u001b[0m\u001b[0;34m\u001b[0m\u001b[0m\n",
      "\u001b[0;31mParameterError\u001b[0m: Audio buffer is not finite everywhere"
     ]
    }
   ],
   "source": [
    "n=len(audio_reader.data)\n",
    "X_train = np.zeros((n,6))\n",
    "start = time.time()\n",
    "for i,arr in enumerate(audio_reader.data):\n",
    "    if arr.size == 0:\n",
    "        continue\n",
    "    X_train[i]=np.mean(librosa.feature.tonnetz(y=librosa.effects.harmonic(arr), sr=sr).T,axis=0)\n",
    "    if i%500 == 0:\n",
    "        print (i, time.time()-start)\n",
    "meta2 = meta.set_index('fname')\n",
    "files = [0]*len(audio_reader.files)\n",
    "for i,f in enumerate(audio_reader.files):\n",
    "    files[i]=f.split('/')[-1]\n",
    "y_train = np.array(meta2.loc[files]['type'])"
   ]
  },
  {
   "cell_type": "code",
   "execution_count": 56,
   "metadata": {},
   "outputs": [
    {
     "name": "stdout",
     "output_type": "stream",
     "text": [
      "0.24065589904785156 100\n",
      "0.4848320484161377 200\n",
      "0.7339329719543457 300\n",
      "0.9544987678527832 400\n",
      "1.198190450668335 500\n",
      "1.4346206188201904 600\n",
      "0 0.011100292205810547\n",
      "300 4.476659774780273\n",
      "600 8.003519296646118\n"
     ]
    }
   ],
   "source": [
    "test_dir='./data_v_7_stc/test'\n",
    "test_reader = AudioReader(test_dir,sr,silence_threshold=silence_threshold)\n",
    "test_reader.read()\n",
    "n=len(test_reader.data)\n",
    "X_full = np.zeros((n,40))\n",
    "start = time.time()\n",
    "for i,arr in enumerate(test_reader.data):\n",
    "    if arr.size == 0:\n",
    "        continue\n",
    "    X_full[i]=np.mean(librosa.feature.mfcc(arr,sr,n_mfcc=40).T,axis=0)\n",
    "    if i%300 == 0:\n",
    "        print (i, time.time()-start)\n",
    "to = {'background':0,'bags':1,'door':2,'keyboard':3,'knocking':4,'ring':5,'speech':6,'tool':7}\n",
    "T = np.array(test_reader.id)\n",
    "X_test, y_test =X_full[T != 'unknown'],  np.array([to[x] for x in T[T != 'unknown']])\n",
    "X_unknown = X_full[T == 'unknown']"
   ]
  },
  {
   "cell_type": "markdown",
   "metadata": {},
   "source": [
    "# Classification part"
   ]
  },
  {
   "cell_type": "code",
   "execution_count": 51,
   "metadata": {
    "collapsed": true
   },
   "outputs": [],
   "source": [
    "def score_model(clf, title):\n",
    "    kfold = KFold(n_splits=3)\n",
    "    cv_res = np.mean(cross_val_score(clf, X_train, y_train, cv=kfold, scoring='neg_log_loss'))\n",
    "    print(title, \"Cross_Entropy_Loss: {0:.3f}\".format(cv_res))"
   ]
  },
  {
   "cell_type": "code",
   "execution_count": 135,
   "metadata": {},
   "outputs": [
    {
     "name": "stdout",
     "output_type": "stream",
     "text": [
      "SVM CE: -0.507\n",
      "Случайный лес CE: -0.266\n",
      "Градиентный бустинг(sklearn) CE: -1.840\n",
      "Градиентный бустинг(xgb) CE: -0.240\n"
     ]
    }
   ],
   "source": [
    "models = [\n",
    "    (RandomForestClassifier(max_depth = 10,n_n_estimators = 100,random_state=17), \"Случайный лес\"),\n",
    "    (XGBClassifier(max_depth = 3,n_n_estimators = 1000,random_state=17), \"Градиентный бустинг(xgb)\")\n",
    "]\n",
    "\n",
    "for pair in models:\n",
    "    score_model(*pair)"
   ]
  },
  {
   "cell_type": "code",
   "execution_count": 55,
   "metadata": {
    "collapsed": true,
    "scrolled": true
   },
   "outputs": [],
   "source": [
    "xgb = XGBClassifier(random_state=17)\n",
    "kfold = KFold(n_splits=5)\n",
    "parameters = {'n_estimators':[100,500,1000,1500],\n",
    "              'max_depth': [2,3,4],\n",
    "             }\n",
    "grid = GridSearchCV(xgb, parameters, n_jobs=-1, \n",
    "                    cv=kfold, scoring='neg_log_loss', refit=True)\n",
    "grid.fit(X_train, y_train);"
   ]
  },
  {
   "cell_type": "markdown",
   "metadata": {},
   "source": [
    "## Обучение классификатора"
   ]
  },
  {
   "cell_type": "code",
   "execution_count": 64,
   "metadata": {
    "scrolled": true
   },
   "outputs": [
    {
     "data": {
      "text/plain": [
       "(0.94503171247357298, 0.21528591295804647)"
      ]
     },
     "execution_count": 64,
     "metadata": {},
     "output_type": "execute_result"
    }
   ],
   "source": [
    "xgb =  XGBClassifier(n_estimators=3000, max_depth=3 ,n_jobs=-1, random_state=17)\n",
    "xgb.fit(X_train, y_train)\n",
    "pred = xgb.predict_proba(X_test)\n",
    "idx, score = pred.argmax(axis=1), pred.max(axis=1)\n",
    "if drop:\n",
    "    idx[mask_test] = 0\n",
    "    score[mask_test] = 1\n",
    "accuracy_score(y_test,idx), log_loss(y_test,pred)"
   ]
  },
  {
   "cell_type": "code",
   "execution_count": 63,
   "metadata": {},
   "outputs": [
    {
     "data": {
      "image/png": "[encoded data removed]",
      "text/plain": [
       "<matplotlib.figure.Figure at 0x7fee03ce2128>"
      ]
     },
     "metadata": {},
     "output_type": "display_data"
    }
   ],
   "source": [
    "plt.bar(range(len(xgb.feature_importances_)), xgb.feature_importances_)\n",
    "plt.show()"
   ]
  },
  {
   "cell_type": "code",
   "execution_count": 62,
   "metadata": {},
   "outputs": [
    {
     "data": {
      "text/plain": [
       "(1.0, 0.0042516821488229077)"
      ]
     },
     "execution_count": 62,
     "metadata": {},
     "output_type": "execute_result"
    }
   ],
   "source": [
    "pred = xgb.predict_proba(X_train)\n",
    "idx, score = pred.argmax(axis=1), pred.max(axis=1)\n",
    "accuracy_score(y_train,idx), log_loss(y_train,pred)"
   ]
  },
  {
   "cell_type": "code",
   "execution_count": 20,
   "metadata": {},
   "outputs": [
    {
     "data": {
      "text/plain": [
       "((473, 8), (473, 8))"
      ]
     },
     "execution_count": 20,
     "metadata": {},
     "output_type": "execute_result"
    }
   ],
   "source": [
    "from sklearn.preprocessing import OneHotEncoder\n",
    "onehot_encoder = OneHotEncoder(sparse=False)\n",
    "\n",
    "ohe = onehot_encoder.fit_transform(y_test.reshape(-1,1))\n",
    "ohe.shape, pred.shape"
   ]
  },
  {
   "cell_type": "code",
   "execution_count": 67,
   "metadata": {},
   "outputs": [
    {
     "name": "stdout",
     "output_type": "stream",
     "text": [
      "[['door_t_0019.wav' '0.9942910671234131' 'door']\n",
      " ['unknown_0095.wav' '0.6291758418083191' 'knocking_door']\n",
      " ['knocking_door_t_0009.wav' '0.9999544620513916' 'knocking_door']\n",
      " ..., \n",
      " ['door_t_0014.wav' '0.982999861240387' 'door']\n",
      " ['unknown_0107.wav' '0.8238789439201355' 'tool']\n",
      " ['speech_0051.wav' '0.8677757978439331' 'speech']]\n"
     ]
    }
   ],
   "source": [
    "def write_pred(est, arr,files,drop): \n",
    "    pred = est.predict_proba(arr)\n",
    "    idx, score = pred.argmax(axis=1), pred.max(axis=1)\n",
    "    if drop:\n",
    "        idx[np.invert(test_reader.pred_category)] = 0\n",
    "        score[np.invert(test_reader.pred_category)] = 1\n",
    "    lables = np.array([fr[x] for x in idx])\n",
    "    res = np.column_stack((files,score,lables))\n",
    "    print (res)\n",
    "    np.savetxt('to_ret_all-3.txt',res,delimiter='\\t',fmt=\"%s\")\n",
    "write_pred(xgb,X_full,fnames_test,drop)"
   ]
  },
  {
   "cell_type": "code",
   "execution_count": null,
   "metadata": {
    "collapsed": true
   },
   "outputs": [],
   "source": []
  },
  {
   "cell_type": "code",
   "execution_count": null,
   "metadata": {
    "collapsed": true
   },
   "outputs": [],
   "source": []
  },
  {
   "cell_type": "code",
   "execution_count": 65,
   "metadata": {
    "collapsed": true
   },
   "outputs": [],
   "source": [
    "from sklearn.decomposition import PCA"
   ]
  },
  {
   "cell_type": "code",
   "execution_count": 68,
   "metadata": {
    "collapsed": true
   },
   "outputs": [],
   "source": [
    "pca = PCA()\n",
    "pca.fit(X_train)\n",
    "X_train_pca = pca.transform(X_train)\n",
    "X_test_pca = pca.transform(X_test)"
   ]
  },
  {
   "cell_type": "code",
   "execution_count": null,
   "metadata": {
    "collapsed": true
   },
   "outputs": [],
   "source": []
  }
 ],
 "metadata": {
  "kernelspec": {
   "display_name": "Python 3",
   "language": "python",
   "name": "python3"
  },
  "language_info": {
   "codemirror_mode": {
    "name": "ipython",
    "version": 3
   },
   "file_extension": ".py",
   "mimetype": "text/x-python",
   "name": "python",
   "nbconvert_exporter": "python",
   "pygments_lexer": "ipython3",
   "version": "3.6.4"
  }
 },
 "nbformat": 4,
 "nbformat_minor": 2
}
